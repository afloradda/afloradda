{
  "nbformat": 4,
  "nbformat_minor": 0,
  "metadata": {
    "colab": {
      "provenance": [],
      "authorship_tag": "ABX9TyNFGfp8ra9bZGaRcgNxOxqH",
      "include_colab_link": true
    },
    "kernelspec": {
      "name": "python3",
      "display_name": "Python 3"
    },
    "language_info": {
      "name": "python"
    }
  },
  "cells": [
    {
      "cell_type": "markdown",
      "metadata": {
        "id": "view-in-github",
        "colab_type": "text"
      },
      "source": [
        "<a href=\"https://colab.research.google.com/github/afloradda/afloradda/blob/main/Desafio_Python_Frequencias_Medias.ipynb\" target=\"_parent\"><img src=\"https://colab.research.google.com/assets/colab-badge.svg\" alt=\"Open In Colab\"/></a>"
      ]
    },
    {
      "cell_type": "code",
      "execution_count": 4,
      "metadata": {
        "id": "yAvU29Ly0xON"
      },
      "outputs": [],
      "source": [
        "import pandas as pd\n",
        "import numpy as np\n",
        "import matplotlib.pyplot as plt\n",
        "import seaborn as sns"
      ]
    },
    {
      "cell_type": "code",
      "source": [
        "import os\n",
        "\n",
        "# Depuração sobre os arquivos ('FileNotFoundError: File enem_2003.json does not exist')\n",
        "print(os.listdir()) # Escrevi o nome do arquivo errado por isso não estava encontrando.\n"
      ],
      "metadata": {
        "colab": {
          "base_uri": "https://localhost:8080/"
        },
        "id": "xDMJTj6l3mHl",
        "outputId": "d8b18f46-9971-4358-9a40-0b402553c89a"
      },
      "execution_count": 7,
      "outputs": [
        {
          "output_type": "stream",
          "name": "stdout",
          "text": [
            "['.config', 'enem_2023.json', 'sample_data']\n"
          ]
        }
      ]
    },
    {
      "cell_type": "code",
      "source": [
        "df = pd.read_json(\"enem_2023.json\")"
      ],
      "metadata": {
        "id": "TE3YJo-Q2Ljt"
      },
      "execution_count": 8,
      "outputs": []
    },
    {
      "cell_type": "code",
      "source": [
        "df.head()"
      ],
      "metadata": {
        "colab": {
          "base_uri": "https://localhost:8080/",
          "height": 206
        },
        "id": "f0vQfCSP4Obm",
        "outputId": "1bc50b38-f074-4eb9-da07-7a9887cd7195"
      },
      "execution_count": 9,
      "outputs": [
        {
          "output_type": "execute_result",
          "data": {
            "text/plain": [
              "   Linguagens  Ciências humanas  Ciências da natureza  Matemática     Redação  \\\n",
              "0  585.669300        686.512178            390.482473  452.281333  546.371706   \n",
              "1  359.384608        642.084134                   NaN  412.205207  741.825256   \n",
              "2  622.732384        495.510719            443.183580  669.683401  684.515750   \n",
              "3  350.164605        602.041588            413.979810  676.608952  671.237114   \n",
              "4  384.093657        489.249140            609.758123  520.426698  744.375048   \n",
              "\n",
              "     Sexo  \n",
              "0   Homem  \n",
              "1  Mulher  \n",
              "2   Homem  \n",
              "3   Homem  \n",
              "4   Homem  "
            ],
            "text/html": [
              "\n",
              "  <div id=\"df-d1695cff-2757-4b45-a97f-e645c0d4fe49\" class=\"colab-df-container\">\n",
              "    <div>\n",
              "<style scoped>\n",
              "    .dataframe tbody tr th:only-of-type {\n",
              "        vertical-align: middle;\n",
              "    }\n",
              "\n",
              "    .dataframe tbody tr th {\n",
              "        vertical-align: top;\n",
              "    }\n",
              "\n",
              "    .dataframe thead th {\n",
              "        text-align: right;\n",
              "    }\n",
              "</style>\n",
              "<table border=\"1\" class=\"dataframe\">\n",
              "  <thead>\n",
              "    <tr style=\"text-align: right;\">\n",
              "      <th></th>\n",
              "      <th>Linguagens</th>\n",
              "      <th>Ciências humanas</th>\n",
              "      <th>Ciências da natureza</th>\n",
              "      <th>Matemática</th>\n",
              "      <th>Redação</th>\n",
              "      <th>Sexo</th>\n",
              "    </tr>\n",
              "  </thead>\n",
              "  <tbody>\n",
              "    <tr>\n",
              "      <th>0</th>\n",
              "      <td>585.669300</td>\n",
              "      <td>686.512178</td>\n",
              "      <td>390.482473</td>\n",
              "      <td>452.281333</td>\n",
              "      <td>546.371706</td>\n",
              "      <td>Homem</td>\n",
              "    </tr>\n",
              "    <tr>\n",
              "      <th>1</th>\n",
              "      <td>359.384608</td>\n",
              "      <td>642.084134</td>\n",
              "      <td>NaN</td>\n",
              "      <td>412.205207</td>\n",
              "      <td>741.825256</td>\n",
              "      <td>Mulher</td>\n",
              "    </tr>\n",
              "    <tr>\n",
              "      <th>2</th>\n",
              "      <td>622.732384</td>\n",
              "      <td>495.510719</td>\n",
              "      <td>443.183580</td>\n",
              "      <td>669.683401</td>\n",
              "      <td>684.515750</td>\n",
              "      <td>Homem</td>\n",
              "    </tr>\n",
              "    <tr>\n",
              "      <th>3</th>\n",
              "      <td>350.164605</td>\n",
              "      <td>602.041588</td>\n",
              "      <td>413.979810</td>\n",
              "      <td>676.608952</td>\n",
              "      <td>671.237114</td>\n",
              "      <td>Homem</td>\n",
              "    </tr>\n",
              "    <tr>\n",
              "      <th>4</th>\n",
              "      <td>384.093657</td>\n",
              "      <td>489.249140</td>\n",
              "      <td>609.758123</td>\n",
              "      <td>520.426698</td>\n",
              "      <td>744.375048</td>\n",
              "      <td>Homem</td>\n",
              "    </tr>\n",
              "  </tbody>\n",
              "</table>\n",
              "</div>\n",
              "    <div class=\"colab-df-buttons\">\n",
              "\n",
              "  <div class=\"colab-df-container\">\n",
              "    <button class=\"colab-df-convert\" onclick=\"convertToInteractive('df-d1695cff-2757-4b45-a97f-e645c0d4fe49')\"\n",
              "            title=\"Convert this dataframe to an interactive table.\"\n",
              "            style=\"display:none;\">\n",
              "\n",
              "  <svg xmlns=\"http://www.w3.org/2000/svg\" height=\"24px\" viewBox=\"0 -960 960 960\">\n",
              "    <path d=\"M120-120v-720h720v720H120Zm60-500h600v-160H180v160Zm220 220h160v-160H400v160Zm0 220h160v-160H400v160ZM180-400h160v-160H180v160Zm440 0h160v-160H620v160ZM180-180h160v-160H180v160Zm440 0h160v-160H620v160Z\"/>\n",
              "  </svg>\n",
              "    </button>\n",
              "\n",
              "  <style>\n",
              "    .colab-df-container {\n",
              "      display:flex;\n",
              "      gap: 12px;\n",
              "    }\n",
              "\n",
              "    .colab-df-convert {\n",
              "      background-color: #E8F0FE;\n",
              "      border: none;\n",
              "      border-radius: 50%;\n",
              "      cursor: pointer;\n",
              "      display: none;\n",
              "      fill: #1967D2;\n",
              "      height: 32px;\n",
              "      padding: 0 0 0 0;\n",
              "      width: 32px;\n",
              "    }\n",
              "\n",
              "    .colab-df-convert:hover {\n",
              "      background-color: #E2EBFA;\n",
              "      box-shadow: 0px 1px 2px rgba(60, 64, 67, 0.3), 0px 1px 3px 1px rgba(60, 64, 67, 0.15);\n",
              "      fill: #174EA6;\n",
              "    }\n",
              "\n",
              "    .colab-df-buttons div {\n",
              "      margin-bottom: 4px;\n",
              "    }\n",
              "\n",
              "    [theme=dark] .colab-df-convert {\n",
              "      background-color: #3B4455;\n",
              "      fill: #D2E3FC;\n",
              "    }\n",
              "\n",
              "    [theme=dark] .colab-df-convert:hover {\n",
              "      background-color: #434B5C;\n",
              "      box-shadow: 0px 1px 3px 1px rgba(0, 0, 0, 0.15);\n",
              "      filter: drop-shadow(0px 1px 2px rgba(0, 0, 0, 0.3));\n",
              "      fill: #FFFFFF;\n",
              "    }\n",
              "  </style>\n",
              "\n",
              "    <script>\n",
              "      const buttonEl =\n",
              "        document.querySelector('#df-d1695cff-2757-4b45-a97f-e645c0d4fe49 button.colab-df-convert');\n",
              "      buttonEl.style.display =\n",
              "        google.colab.kernel.accessAllowed ? 'block' : 'none';\n",
              "\n",
              "      async function convertToInteractive(key) {\n",
              "        const element = document.querySelector('#df-d1695cff-2757-4b45-a97f-e645c0d4fe49');\n",
              "        const dataTable =\n",
              "          await google.colab.kernel.invokeFunction('convertToInteractive',\n",
              "                                                    [key], {});\n",
              "        if (!dataTable) return;\n",
              "\n",
              "        const docLinkHtml = 'Like what you see? Visit the ' +\n",
              "          '<a target=\"_blank\" href=https://colab.research.google.com/notebooks/data_table.ipynb>data table notebook</a>'\n",
              "          + ' to learn more about interactive tables.';\n",
              "        element.innerHTML = '';\n",
              "        dataTable['output_type'] = 'display_data';\n",
              "        await google.colab.output.renderOutput(dataTable, element);\n",
              "        const docLink = document.createElement('div');\n",
              "        docLink.innerHTML = docLinkHtml;\n",
              "        element.appendChild(docLink);\n",
              "      }\n",
              "    </script>\n",
              "  </div>\n",
              "\n",
              "\n",
              "<div id=\"df-26304da8-1b07-4da1-b89a-3592b5128e5c\">\n",
              "  <button class=\"colab-df-quickchart\" onclick=\"quickchart('df-26304da8-1b07-4da1-b89a-3592b5128e5c')\"\n",
              "            title=\"Suggest charts\"\n",
              "            style=\"display:none;\">\n",
              "\n",
              "<svg xmlns=\"http://www.w3.org/2000/svg\" height=\"24px\"viewBox=\"0 0 24 24\"\n",
              "     width=\"24px\">\n",
              "    <g>\n",
              "        <path d=\"M19 3H5c-1.1 0-2 .9-2 2v14c0 1.1.9 2 2 2h14c1.1 0 2-.9 2-2V5c0-1.1-.9-2-2-2zM9 17H7v-7h2v7zm4 0h-2V7h2v10zm4 0h-2v-4h2v4z\"/>\n",
              "    </g>\n",
              "</svg>\n",
              "  </button>\n",
              "\n",
              "<style>\n",
              "  .colab-df-quickchart {\n",
              "      --bg-color: #E8F0FE;\n",
              "      --fill-color: #1967D2;\n",
              "      --hover-bg-color: #E2EBFA;\n",
              "      --hover-fill-color: #174EA6;\n",
              "      --disabled-fill-color: #AAA;\n",
              "      --disabled-bg-color: #DDD;\n",
              "  }\n",
              "\n",
              "  [theme=dark] .colab-df-quickchart {\n",
              "      --bg-color: #3B4455;\n",
              "      --fill-color: #D2E3FC;\n",
              "      --hover-bg-color: #434B5C;\n",
              "      --hover-fill-color: #FFFFFF;\n",
              "      --disabled-bg-color: #3B4455;\n",
              "      --disabled-fill-color: #666;\n",
              "  }\n",
              "\n",
              "  .colab-df-quickchart {\n",
              "    background-color: var(--bg-color);\n",
              "    border: none;\n",
              "    border-radius: 50%;\n",
              "    cursor: pointer;\n",
              "    display: none;\n",
              "    fill: var(--fill-color);\n",
              "    height: 32px;\n",
              "    padding: 0;\n",
              "    width: 32px;\n",
              "  }\n",
              "\n",
              "  .colab-df-quickchart:hover {\n",
              "    background-color: var(--hover-bg-color);\n",
              "    box-shadow: 0 1px 2px rgba(60, 64, 67, 0.3), 0 1px 3px 1px rgba(60, 64, 67, 0.15);\n",
              "    fill: var(--button-hover-fill-color);\n",
              "  }\n",
              "\n",
              "  .colab-df-quickchart-complete:disabled,\n",
              "  .colab-df-quickchart-complete:disabled:hover {\n",
              "    background-color: var(--disabled-bg-color);\n",
              "    fill: var(--disabled-fill-color);\n",
              "    box-shadow: none;\n",
              "  }\n",
              "\n",
              "  .colab-df-spinner {\n",
              "    border: 2px solid var(--fill-color);\n",
              "    border-color: transparent;\n",
              "    border-bottom-color: var(--fill-color);\n",
              "    animation:\n",
              "      spin 1s steps(1) infinite;\n",
              "  }\n",
              "\n",
              "  @keyframes spin {\n",
              "    0% {\n",
              "      border-color: transparent;\n",
              "      border-bottom-color: var(--fill-color);\n",
              "      border-left-color: var(--fill-color);\n",
              "    }\n",
              "    20% {\n",
              "      border-color: transparent;\n",
              "      border-left-color: var(--fill-color);\n",
              "      border-top-color: var(--fill-color);\n",
              "    }\n",
              "    30% {\n",
              "      border-color: transparent;\n",
              "      border-left-color: var(--fill-color);\n",
              "      border-top-color: var(--fill-color);\n",
              "      border-right-color: var(--fill-color);\n",
              "    }\n",
              "    40% {\n",
              "      border-color: transparent;\n",
              "      border-right-color: var(--fill-color);\n",
              "      border-top-color: var(--fill-color);\n",
              "    }\n",
              "    60% {\n",
              "      border-color: transparent;\n",
              "      border-right-color: var(--fill-color);\n",
              "    }\n",
              "    80% {\n",
              "      border-color: transparent;\n",
              "      border-right-color: var(--fill-color);\n",
              "      border-bottom-color: var(--fill-color);\n",
              "    }\n",
              "    90% {\n",
              "      border-color: transparent;\n",
              "      border-bottom-color: var(--fill-color);\n",
              "    }\n",
              "  }\n",
              "</style>\n",
              "\n",
              "  <script>\n",
              "    async function quickchart(key) {\n",
              "      const quickchartButtonEl =\n",
              "        document.querySelector('#' + key + ' button');\n",
              "      quickchartButtonEl.disabled = true;  // To prevent multiple clicks.\n",
              "      quickchartButtonEl.classList.add('colab-df-spinner');\n",
              "      try {\n",
              "        const charts = await google.colab.kernel.invokeFunction(\n",
              "            'suggestCharts', [key], {});\n",
              "      } catch (error) {\n",
              "        console.error('Error during call to suggestCharts:', error);\n",
              "      }\n",
              "      quickchartButtonEl.classList.remove('colab-df-spinner');\n",
              "      quickchartButtonEl.classList.add('colab-df-quickchart-complete');\n",
              "    }\n",
              "    (() => {\n",
              "      let quickchartButtonEl =\n",
              "        document.querySelector('#df-26304da8-1b07-4da1-b89a-3592b5128e5c button');\n",
              "      quickchartButtonEl.style.display =\n",
              "        google.colab.kernel.accessAllowed ? 'block' : 'none';\n",
              "    })();\n",
              "  </script>\n",
              "</div>\n",
              "\n",
              "    </div>\n",
              "  </div>\n"
            ],
            "application/vnd.google.colaboratory.intrinsic+json": {
              "type": "dataframe",
              "variable_name": "df",
              "summary": "{\n  \"name\": \"df\",\n  \"rows\": 1000,\n  \"fields\": [\n    {\n      \"column\": \"Linguagens\",\n      \"properties\": {\n        \"dtype\": \"number\",\n        \"std\": 84.00931315971195,\n        \"min\": 287.0,\n        \"max\": 804.4563171927,\n        \"num_unique_values\": 896,\n        \"samples\": [\n          638.5729576994,\n          458.5772735297,\n          469.6368972844\n        ],\n        \"semantic_type\": \"\",\n        \"description\": \"\"\n      }\n    },\n    {\n      \"column\": \"Ci\\u00eancias humanas\",\n      \"properties\": {\n        \"dtype\": \"number\",\n        \"std\": 77.81151916399479,\n        \"min\": 289.9,\n        \"max\": 763.9196954613,\n        \"num_unique_values\": 935,\n        \"samples\": [\n          552.953806862,\n          648.4281845758,\n          519.0714634707\n        ],\n        \"semantic_type\": \"\",\n        \"description\": \"\"\n      }\n    },\n    {\n      \"column\": \"Ci\\u00eancias da natureza\",\n      \"properties\": {\n        \"dtype\": \"number\",\n        \"std\": 78.76040369093826,\n        \"min\": 314.4,\n        \"max\": 802.0045683513,\n        \"num_unique_values\": 821,\n        \"samples\": [\n          472.110329659,\n          468.0927320977,\n          391.1238460543\n        ],\n        \"semantic_type\": \"\",\n        \"description\": \"\"\n      }\n    },\n    {\n      \"column\": \"Matem\\u00e1tica\",\n      \"properties\": {\n        \"dtype\": \"number\",\n        \"std\": 86.64810003261282,\n        \"min\": 319.8,\n        \"max\": 807.8779018921,\n        \"num_unique_values\": 918,\n        \"samples\": [\n          577.6921115123,\n          562.8560894807,\n          464.1971411718\n        ],\n        \"semantic_type\": \"\",\n        \"description\": \"\"\n      }\n    },\n    {\n      \"column\": \"Reda\\u00e7\\u00e3o\",\n      \"properties\": {\n        \"dtype\": \"number\",\n        \"std\": 115.33997244479167,\n        \"min\": 270.8399648605,\n        \"max\": 1000.0,\n        \"num_unique_values\": 860,\n        \"samples\": [\n          482.1791420587,\n          687.1614107203,\n          572.6498716449\n        ],\n        \"semantic_type\": \"\",\n        \"description\": \"\"\n      }\n    },\n    {\n      \"column\": \"Sexo\",\n      \"properties\": {\n        \"dtype\": \"category\",\n        \"num_unique_values\": 3,\n        \"samples\": [\n          \"Homem\",\n          \"Mulher\",\n          \"N\\u00e3o idenficado\"\n        ],\n        \"semantic_type\": \"\",\n        \"description\": \"\"\n      }\n    }\n  ]\n}"
            }
          },
          "metadata": {},
          "execution_count": 9
        }
      ]
    },
    {
      "cell_type": "markdown",
      "source": [
        "### 1. Qual das disciplinas tem a maior amplitude de nota?\n",
        "\n",
        "A ***amplitude*** é a diferença entre o maior e o menor valor de um conjunto de dados. A fórmula para calcular é:\n",
        "\n",
        "*Amplitude = Valor Máximo - Valor Mínimo*"
      ],
      "metadata": {
        "id": "Eqi56Lak4wD1"
      }
    },
    {
      "cell_type": "code",
      "source": [
        "disciplinas = df[['Linguagens', 'Ciências humanas', 'Ciências da natureza', 'Matemática', 'Redação']]\n",
        "\n",
        "amplitude = disciplinas.max() - disciplinas.min()\n",
        "\n",
        "disciplina_maior_amplitude = amplitude.idxmax()\n",
        "maior_amplitude = amplitude.max()"
      ],
      "metadata": {
        "id": "5mEwiy1h40xk"
      },
      "execution_count": 11,
      "outputs": []
    },
    {
      "cell_type": "code",
      "source": [
        "print(f\"A disciplina com a maior amplitude é {disciplina_maior_amplitude} com um valor de {maior_amplitude}.\")"
      ],
      "metadata": {
        "colab": {
          "base_uri": "https://localhost:8080/"
        },
        "id": "Oa88zHKN9wdp",
        "outputId": "506151e9-9387-4173-fef5-342defe79c8c"
      },
      "execution_count": 12,
      "outputs": [
        {
          "output_type": "stream",
          "name": "stdout",
          "text": [
            "A disciplina com a maior amplitude é Redação com um valor de 729.1600351395.\n"
          ]
        }
      ]
    },
    {
      "cell_type": "markdown",
      "source": [
        "### 2. Média e Mediana"
      ],
      "metadata": {
        "id": "JtzhIFjN7qOC"
      }
    },
    {
      "cell_type": "code",
      "source": [
        "medias = disciplinas.mean(skipna=True)\n",
        "print(medias)"
      ],
      "metadata": {
        "colab": {
          "base_uri": "https://localhost:8080/"
        },
        "id": "_lYLSzvu-CJ0",
        "outputId": "4e85fbf3-c0f0-43f6-d8a5-11be7eb69505"
      },
      "execution_count": 13,
      "outputs": [
        {
          "output_type": "stream",
          "name": "stdout",
          "text": [
            "Linguagens              514.524809\n",
            "Ciências humanas        527.042281\n",
            "Ciências da natureza    499.315583\n",
            "Matemática              535.965660\n",
            "Redação                 637.783532\n",
            "dtype: float64\n"
          ]
        }
      ]
    },
    {
      "cell_type": "code",
      "source": [
        "medianas = disciplinas.median(skipna=True)\n",
        "print(medianas)"
      ],
      "metadata": {
        "colab": {
          "base_uri": "https://localhost:8080/"
        },
        "id": "l3fnCLA77kWZ",
        "outputId": "cc34710e-ca32-41bb-8062-835a29d2f652"
      },
      "execution_count": 15,
      "outputs": [
        {
          "output_type": "stream",
          "name": "stdout",
          "text": [
            "Linguagens              515.045250\n",
            "Ciências humanas        524.519920\n",
            "Ciências da natureza    500.479263\n",
            "Matemática              533.247767\n",
            "Redação                 635.273973\n",
            "dtype: float64\n"
          ]
        }
      ]
    },
    {
      "cell_type": "markdown",
      "source": [
        "### 3. Considerando o curso de 'Ciência da Computação', da UFPE. Qual a média e o desvio padrão [...]\n",
        "\n",
        "O ***desvio padrão*** é uma medida de dispersão que indica o quanto os valores de um conjunto de dados variam em relação à média."
      ],
      "metadata": {
        "id": "LYxMw_8k-U2E"
      }
    },
    {
      "cell_type": "code",
      "source": [
        "pesos = {\n",
        "    \"Redação\": 2,\n",
        "    \"Matemática e suas Tecnologias\": 4,\n",
        "    \"Linguagens, Códigos e suas Tecnologias\": 2,\n",
        "    \"Ciências Humanas e suas Tecnologias\": 1,\n",
        "    \"Ciências da Natureza e suas Tecnologias\": 1\n",
        "}"
      ],
      "metadata": {
        "id": "OlJNlMZZ_OG8"
      },
      "execution_count": 16,
      "outputs": []
    },
    {
      "cell_type": "code",
      "source": [
        "df_UFPE_media = df.copy()"
      ],
      "metadata": {
        "id": "0AsXYQZxAiUS"
      },
      "execution_count": 17,
      "outputs": []
    },
    {
      "cell_type": "code",
      "source": [
        "df_UFPE_media['Media Ponderada'] = (\n",
        "    df_UFPE_media['Redação'] * pesos['Redação'] +\n",
        "    df_UFPE_media['Matemática'] * pesos['Matemática e suas Tecnologias'] +\n",
        "    df_UFPE_media['Linguagens'] * pesos['Linguagens, Códigos e suas Tecnologias'] +\n",
        "    df_UFPE_media['Ciências humanas'] * pesos['Ciências Humanas e suas Tecnologias'] +\n",
        "    df_UFPE_media['Ciências da natureza'] * pesos['Ciências da Natureza e suas Tecnologias']\n",
        ") / sum(pesos.values())"
      ],
      "metadata": {
        "id": "ZIaxDgKkBVLF"
      },
      "execution_count": 18,
      "outputs": []
    },
    {
      "cell_type": "code",
      "source": [
        "df_top500 = df_UFPE_media.nlargest(500, 'Media Ponderada')"
      ],
      "metadata": {
        "id": "p7pOpBiWCB3W"
      },
      "execution_count": 19,
      "outputs": []
    },
    {
      "cell_type": "code",
      "source": [
        "media_top500 = df_top500['Media Ponderada'].mean()"
      ],
      "metadata": {
        "id": "qR37fV_nCPw4"
      },
      "execution_count": 21,
      "outputs": []
    },
    {
      "cell_type": "code",
      "source": [
        "print(f\"A média das notas dos 500 melhores estudantes é {media_top500:.2f}\")"
      ],
      "metadata": {
        "colab": {
          "base_uri": "https://localhost:8080/"
        },
        "id": "LHHKLBAUCeez",
        "outputId": "6f015022-71db-4cbc-fc88-e4dfff086517"
      },
      "execution_count": 23,
      "outputs": [
        {
          "output_type": "stream",
          "name": "stdout",
          "text": [
            "A média das notas dos 500 melhores estudantes é 557.29\n"
          ]
        }
      ]
    },
    {
      "cell_type": "code",
      "source": [
        "desvio_padrao_top500 = df_top500['Media Ponderada'].std()"
      ],
      "metadata": {
        "id": "Qu0_zSxFCadj"
      },
      "execution_count": 22,
      "outputs": []
    },
    {
      "cell_type": "code",
      "source": [
        "print(f\"O desvio padrão das notas dos 500 melhores estudantes é {desvio_padrao_top500:.2f}\")"
      ],
      "metadata": {
        "colab": {
          "base_uri": "https://localhost:8080/"
        },
        "id": "0zxXqFlHCkAg",
        "outputId": "74ab7ee7-157d-444d-95a1-ea3bb536ebf7"
      },
      "execution_count": 24,
      "outputs": [
        {
          "output_type": "stream",
          "name": "stdout",
          "text": [
            "O desvio padrão das notas dos 500 melhores estudantes é 40.44\n"
          ]
        }
      ]
    },
    {
      "cell_type": "markdown",
      "source": [
        "### 4. Considerando que existem apenas 40 vagas: Qual seria a variância de média se todos os estudantes aplicassem para Ciência da Computação?"
      ],
      "metadata": {
        "id": "XRsCoF66Cx0n"
      }
    },
    {
      "cell_type": "code",
      "source": [
        "df_ordenado = df_UFPE_media.sort_values(by=\"Media Ponderada\", ascending=False)"
      ],
      "metadata": {
        "id": "Uycm9JwNDWQw"
      },
      "execution_count": 25,
      "outputs": []
    },
    {
      "cell_type": "code",
      "source": [
        "df_top40 = df_ordenado.head(40)"
      ],
      "metadata": {
        "id": "q5l3TRCxDqz4"
      },
      "execution_count": 26,
      "outputs": []
    },
    {
      "cell_type": "code",
      "source": [
        "media_top40 = df_top40[\"Media Ponderada\"].mean()"
      ],
      "metadata": {
        "id": "9wL6KoQIDxd3"
      },
      "execution_count": 27,
      "outputs": []
    },
    {
      "cell_type": "code",
      "source": [
        "print(f\"Média dos 40 aprovados: {media_top40:.2f}\")"
      ],
      "metadata": {
        "colab": {
          "base_uri": "https://localhost:8080/"
        },
        "id": "mhEX1IvfD3vc",
        "outputId": "b535208f-1d8b-4a37-af21-afa4e75cfeb0"
      },
      "execution_count": 29,
      "outputs": [
        {
          "output_type": "stream",
          "name": "stdout",
          "text": [
            "Média dos 40 aprovados: 636.68\n"
          ]
        }
      ]
    },
    {
      "cell_type": "code",
      "source": [
        "variancia_top40 = df_top40[\"Media Ponderada\"].var()"
      ],
      "metadata": {
        "id": "CnbFkcKcD2gO"
      },
      "execution_count": 28,
      "outputs": []
    },
    {
      "cell_type": "code",
      "source": [
        "print(f\"Variância das notas dos 40 aprovados: {variancia_top40:.2f}\")"
      ],
      "metadata": {
        "colab": {
          "base_uri": "https://localhost:8080/"
        },
        "id": "eh7tYxwlD65w",
        "outputId": "edc4560d-bfef-492c-b94e-e46d6915c748"
      },
      "execution_count": 30,
      "outputs": [
        {
          "output_type": "stream",
          "name": "stdout",
          "text": [
            "Variância das notas dos 40 aprovados: 295.77\n"
          ]
        }
      ]
    },
    {
      "cell_type": "markdown",
      "source": [
        "### 5. Qual o valor do teto do terceito quartil para as disciplinas de matemática e linguagens?"
      ],
      "metadata": {
        "id": "Ae6Exrg2D814"
      }
    },
    {
      "cell_type": "code",
      "source": [
        "q3_matematica = df['Matemática'].quantile(0.75)\n",
        "print(f\"Teto do terceiro quartil para Matemática: {q3_matematica:.2f}\")"
      ],
      "metadata": {
        "colab": {
          "base_uri": "https://localhost:8080/"
        },
        "id": "T4ImzZGyERTy",
        "outputId": "582dae58-b107-4f2d-fe7e-ba17d40dbab2"
      },
      "execution_count": 32,
      "outputs": [
        {
          "output_type": "stream",
          "name": "stdout",
          "text": [
            "Teto do terceiro quartil para Matemática: 592.91\n"
          ]
        }
      ]
    },
    {
      "cell_type": "code",
      "source": [
        "q3_linguagens = df['Linguagens'].quantile(0.75)\n",
        "print(f\"Teto do terceiro quartil para Linguagens: {q3_linguagens:.2f}\")"
      ],
      "metadata": {
        "colab": {
          "base_uri": "https://localhost:8080/"
        },
        "id": "m2SXuf-gFXhY",
        "outputId": "dd411ec6-2d61-4a95-fd9d-e8576ea56de3"
      },
      "execution_count": 34,
      "outputs": [
        {
          "output_type": "stream",
          "name": "stdout",
          "text": [
            "Teto do terceiro quartil para Linguagens: 571.64\n"
          ]
        }
      ]
    },
    {
      "cell_type": "markdown",
      "source": [
        "### 6 e 7. Histograma de Redação e Linguagens\n",
        "\n",
        "\n",
        "O histograma mostra a distribuição de frequência das notas."
      ],
      "metadata": {
        "id": "if6-mME3F882"
      }
    },
    {
      "cell_type": "code",
      "source": [
        "# Criando o histograma para Redação e Linguagens\n",
        "plt.figure(figsize=(12, 5))\n",
        "\n",
        "# Histograma para Redação\n",
        "plt.subplot(1, 2, 1)  # Criando subplot 1 (linha 1, coluna 2, posição 1)\n",
        "plt.hist(df['Redação'], bins=range(0, 1001, 20), edgecolor=\"black\", alpha=0.7)\n",
        "plt.title(\"Histograma de Redação\")\n",
        "plt.xlabel(\"Nota\")\n",
        "plt.ylabel(\"Frequência\")\n",
        "\n",
        "# Histograma para Linguagens\n",
        "plt.subplot(1, 2, 2)  # Criando subplot 2 (linha 1, coluna 2, posição 2)\n",
        "plt.hist(df['Linguagens'], bins=range(0, 1001, 20), edgecolor=\"black\", alpha=0.7)\n",
        "plt.title(\"Histograma de Linguagens\")\n",
        "plt.xlabel(\"Nota\")\n",
        "plt.ylabel(\"Frequência\")\n",
        "\n",
        "plt.tight_layout()  # Ajusta os gráficos para não sobreporem\n",
        "plt.show()"
      ],
      "metadata": {
        "colab": {
          "base_uri": "https://localhost:8080/",
          "height": 507
        },
        "id": "A5--Y7qGHOv0",
        "outputId": "775ac517-e86a-4317-9e13-3603ad32ba71"
      },
      "execution_count": 43,
      "outputs": [
        {
          "output_type": "display_data",
          "data": {
            "text/plain": [
              "<Figure size 1200x500 with 2 Axes>"
            ],
            "image/png": "[encoded data removed]"
          },
          "metadata": {}
        }
      ]
    },
    {
      "cell_type": "markdown",
      "source": [
        "### 8. Boxplot"
      ],
      "metadata": {
        "id": "0pmRgIj6HaZ9"
      }
    },
    {
      "cell_type": "code",
      "source": [
        "plt.figure(figsize=(10, 5))\n",
        "\n",
        "# Criando o boxplot para Ciências da Natureza e Redação\n",
        "sns.boxplot(data=df[['Ciências da natureza', 'Redação']])\n",
        "\n",
        "plt.title(\"Boxplot das Notas de Ciências da Natureza e Redação\")\n",
        "plt.ylabel(\"Nota\")\n",
        "plt.show()"
      ],
      "metadata": {
        "colab": {
          "base_uri": "https://localhost:8080/",
          "height": 468
        },
        "id": "HrcMuF2AIKRT",
        "outputId": "4790afe7-b5cf-48f0-817f-e843c50e6f01"
      },
      "execution_count": 45,
      "outputs": [
        {
          "output_type": "display_data",
          "data": {
            "text/plain": [
              "<Figure size 1000x500 with 1 Axes>"
            ],
            "image/png": "[encoded data removed]"
          },
          "metadata": {}
        }
      ]
    },
    {
      "cell_type": "markdown",
      "source": [
        "### 9. Identificação de remoção de outliers utilizando IQR"
      ],
      "metadata": {
        "id": "5tJjMUHlIdwI"
      }
    },
    {
      "cell_type": "code",
      "source": [
        "# Calculando as médias originais antes de remover os outliers\n",
        "media_original = df[['Ciências da natureza', 'Redação']].mean()\n",
        "\n",
        "# Remover os outliers com base no IQR\n",
        "for col in ['Ciências da natureza', 'Redação']:\n",
        "    Q1 = df[col].quantile(0.25)\n",
        "    Q3 = df[col].quantile(0.75)\n",
        "    IQR = Q3 - Q1\n",
        "    limite_inferior = Q1 - 1.5 * IQR\n",
        "    limite_superior = Q3 + 1.5 * IQR\n",
        "    df = df[(df[col] >= limite_inferior) & (df[col] <= limite_superior)]\n",
        "\n",
        "# Calculando a nova média após a remoção dos outliers\n",
        "nova_media = df[['Ciências da natureza', 'Redação']].mean()\n",
        "\n",
        "# Calculando a alteração percentual na média\n",
        "alteracao_media = abs((nova_media - media_original) / media_original) * 100\n",
        "\n",
        "print(f\"Média original: \\n{media_original}\")\n",
        "print(f\"Nova média após remoção dos outliers: \\n{nova_media}\")\n",
        "\n",
        "print(f\"Alteração na média após remoção dos outliers:  \\n{alteracao_media}\")"
      ],
      "metadata": {
        "colab": {
          "base_uri": "https://localhost:8080/"
        },
        "id": "RK6LSdqzKxVg",
        "outputId": "c9fe0d7a-af1b-49e6-f5af-9d13da3aa56d"
      },
      "execution_count": 59,
      "outputs": [
        {
          "output_type": "stream",
          "name": "stdout",
          "text": [
            "Média original: \n",
            "Ciências da natureza    500.821707\n",
            "Redação                 638.169482\n",
            "dtype: float64\n",
            "Nova média após remoção dos outliers: \n",
            "Ciências da natureza    500.821707\n",
            "Redação                 638.169482\n",
            "dtype: float64\n",
            "Alteração na média após remoção dos outliers:  \n",
            "Ciências da natureza    0.0\n",
            "Redação                 0.0\n",
            "dtype: float64\n"
          ]
        }
      ]
    },
    {
      "cell_type": "markdown",
      "source": [
        "### 10. Comparação entre média, moda e mediana. Considerando valores nulos."
      ],
      "metadata": {
        "id": "79WOP-2pL-7z"
      }
    },
    {
      "cell_type": "code",
      "source": [
        "def preencher_e_calcular(estrategia):\n",
        "    df_preenchido = df.copy()\n",
        "    for col in df_preenchido.columns[:-2]:  # Considerando as colunas de disciplinas\n",
        "        if estrategia == 'média':\n",
        "            df_preenchido[col] = df_preenchido[col].fillna(df_preenchido[col].mean())\n",
        "        elif estrategia == 'mediana':\n",
        "            df_preenchido[col] = df_preenchido[col].fillna(df_preenchido[col].median())\n",
        "        elif estrategia == 'moda':\n",
        "            df_preenchido[col] = df_preenchido[col].fillna(df_preenchido[col].mode()[0])\n",
        "    return df_preenchido.iloc[:, :-2].mean(), df_preenchido.iloc[:, :-2].std()"
      ],
      "metadata": {
        "id": "49tr-rVoORwk"
      },
      "execution_count": 72,
      "outputs": []
    },
    {
      "cell_type": "code",
      "source": [
        "# Calcular médias e desvios padrão para cada estratégia\n",
        "medias, desvios = {}, {}\n",
        "for estrategia in ['média', 'mediana', 'moda']:\n",
        "    medias[estrategia], desvios[estrategia] = preencher_e_calcular(estrategia)"
      ],
      "metadata": {
        "id": "5AyBZEUOOUhR"
      },
      "execution_count": 73,
      "outputs": []
    },
    {
      "cell_type": "code",
      "source": [
        "# Calcular a alteração na média e desvio padrão\n",
        "alteracao_media = {k: abs((medias[k] - df.iloc[:, :-2].mean()) / df.iloc[:, :-2].mean()) * 100 for k in medias}\n",
        "alteracao_desvio = {k: abs((desvios[k] - df.iloc[:, :-2].std()) / df.iloc[:, :-2].std()) * 100 for k in desvios}"
      ],
      "metadata": {
        "id": "RLG7trUWOWqU"
      },
      "execution_count": 74,
      "outputs": []
    },
    {
      "cell_type": "code",
      "source": [
        "# Verificar qual estratégia altera menos a média\n",
        "melhor_estrategia = min(alteracao_media, key=lambda x: alteracao_media[x].mean())  # Média das alterações por disciplina\n",
        "print(f\"Melhor estratégia para preencher valores nulos: {melhor_estrategia}\")\n"
      ],
      "metadata": {
        "colab": {
          "base_uri": "https://localhost:8080/"
        },
        "id": "VhEThMVGOMM0",
        "outputId": "e549b581-8b1b-41a4-99fa-4c76384413a2"
      },
      "execution_count": 75,
      "outputs": [
        {
          "output_type": "stream",
          "name": "stdout",
          "text": [
            "Melhor estratégia para preencher valores nulos: média\n"
          ]
        }
      ]
    }
  ]
}